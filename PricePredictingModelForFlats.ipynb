{
  "cells": [
    {
      "cell_type": "code",
      "execution_count": 2,
      "metadata": {
        "id": "CUj7V8TbMyyi"
      },
      "outputs": [],
      "source": [
        "import os\n",
        "import sys\n",
        "\n",
        "import pandas as pd\n",
        "import numpy as np\n",
        "import xgboost as xgb\n",
        "import seaborn as sns\n",
        "import matplotlib.pyplot as plt\n",
        "import scipy\n",
        "from scipy import stats\n",
        "\n",
        "from sklearn.model_selection import train_test_split\n",
        "from sklearn import linear_model, tree\n",
        "from sklearn.metrics import accuracy_score, confusion_matrix, classification_report\n",
        "from sklearn.metrics import mean_squared_error, mean_absolute_error, r2_score\n",
        "from sklearn.pipeline import make_pipeline\n",
        "from sklearn.preprocessing import StandardScaler, PolynomialFeatures\n",
        "from sklearn.svm import SVR\n",
        "from sklearn.neural_network import MLPRegressor\n",
        "from sklearn.ensemble import RandomForestRegressor\n",
        "from sklearn.model_selection import GridSearchCV\n"
      ]
    },
    {
      "cell_type": "code",
      "execution_count": 3,
      "metadata": {
        "colab": {
          "base_uri": "https://localhost:8080/",
          "height": 223
        },
        "id": "x-f0dRDaMyyl",
        "outputId": "988bc107-1241-46b4-ed84-ff9e5d7c61dc"
      },
      "outputs": [
        {
          "data": {
            "text/html": [
              "<div>\n",
              "<style scoped>\n",
              "    .dataframe tbody tr th:only-of-type {\n",
              "        vertical-align: middle;\n",
              "    }\n",
              "\n",
              "    .dataframe tbody tr th {\n",
              "        vertical-align: top;\n",
              "    }\n",
              "\n",
              "    .dataframe thead th {\n",
              "        text-align: right;\n",
              "    }\n",
              "</style>\n",
              "<table border=\"1\" class=\"dataframe\">\n",
              "  <thead>\n",
              "    <tr style=\"text-align: right;\">\n",
              "      <th></th>\n",
              "      <th>Price</th>\n",
              "      <th>NumberOfRooms</th>\n",
              "      <th>District</th>\n",
              "      <th>YearOfConstruction</th>\n",
              "      <th>Floor</th>\n",
              "      <th>Area</th>\n",
              "      <th>Link</th>\n",
              "    </tr>\n",
              "  </thead>\n",
              "  <tbody>\n",
              "    <tr>\n",
              "      <th>0</th>\n",
              "      <td>15000000</td>\n",
              "      <td>1</td>\n",
              "      <td>Жетысуский</td>\n",
              "      <td>1976</td>\n",
              "      <td>2</td>\n",
              "      <td>30.7</td>\n",
              "      <td>/a/show/698323887</td>\n",
              "    </tr>\n",
              "    <tr>\n",
              "      <th>1</th>\n",
              "      <td>69000000</td>\n",
              "      <td>5</td>\n",
              "      <td>Наурызбайский</td>\n",
              "      <td>2008</td>\n",
              "      <td>4</td>\n",
              "      <td>150</td>\n",
              "      <td>/a/show/696236386</td>\n",
              "    </tr>\n",
              "    <tr>\n",
              "      <th>2</th>\n",
              "      <td>70000000</td>\n",
              "      <td>3</td>\n",
              "      <td>Бостандыкский</td>\n",
              "      <td>2015</td>\n",
              "      <td>12</td>\n",
              "      <td>111.5</td>\n",
              "      <td>/a/show/692913945</td>\n",
              "    </tr>\n",
              "    <tr>\n",
              "      <th>3</th>\n",
              "      <td>71000000</td>\n",
              "      <td>4</td>\n",
              "      <td>Алатауский</td>\n",
              "      <td>2024</td>\n",
              "      <td>11</td>\n",
              "      <td>118</td>\n",
              "      <td>/a/show/699050320</td>\n",
              "    </tr>\n",
              "    <tr>\n",
              "      <th>4</th>\n",
              "      <td>34400000</td>\n",
              "      <td>2</td>\n",
              "      <td>Наурызбайский</td>\n",
              "      <td>2021</td>\n",
              "      <td>15</td>\n",
              "      <td>59.4</td>\n",
              "      <td>/a/show/697798369</td>\n",
              "    </tr>\n",
              "  </tbody>\n",
              "</table>\n",
              "</div>"
            ],
            "text/plain": [
              "      Price  NumberOfRooms       District YearOfConstruction Floor   Area  \\\n",
              "0  15000000              1     Жетысуский               1976     2   30.7   \n",
              "1  69000000              5  Наурызбайский               2008     4    150   \n",
              "2  70000000              3  Бостандыкский               2015    12  111.5   \n",
              "3  71000000              4     Алатауский               2024    11    118   \n",
              "4  34400000              2  Наурызбайский               2021    15   59.4   \n",
              "\n",
              "                Link  \n",
              "0  /a/show/698323887  \n",
              "1  /a/show/696236386  \n",
              "2  /a/show/692913945  \n",
              "3  /a/show/699050320  \n",
              "4  /a/show/697798369  "
            ]
          },
          "execution_count": 3,
          "metadata": {},
          "output_type": "execute_result"
        }
      ],
      "source": [
        "# Step 1: Data Collection\n",
        "train_df = pd.read_csv('datasets/property_data.csv')\n",
        "train_df.head()"
      ]
    },
    {
      "cell_type": "code",
      "execution_count": 4,
      "metadata": {
        "colab": {
          "base_uri": "https://localhost:8080/",
          "height": 429
        },
        "id": "_O2lzFboMyym",
        "outputId": "e23ed4bb-cfb4-4e78-bac9-6542355e993e"
      },
      "outputs": [
        {
          "data": {
            "text/plain": [
              "District\n",
              "Бостандыкский    460\n",
              "Ауэзовский       287\n",
              "Алмалинский      252\n",
              "Алатауский       245\n",
              "Наурызбайский    209\n",
              "Медеуский        174\n",
              "Турксибский      167\n",
              "Жетысуский       127\n",
              "Алматы            44\n",
              "Алматинская       37\n",
              "Name: count, dtype: int64"
            ]
          },
          "execution_count": 4,
          "metadata": {},
          "output_type": "execute_result"
        }
      ],
      "source": [
        "train_df.District.value_counts()"
      ]
    },
    {
      "cell_type": "code",
      "execution_count": 5,
      "metadata": {
        "colab": {
          "base_uri": "https://localhost:8080/",
          "height": 206
        },
        "id": "raMdnGA6Myyn",
        "outputId": "47d39c0f-6fc6-4e91-ee4c-8db42477123b"
      },
      "outputs": [
        {
          "data": {
            "text/html": [
              "<div>\n",
              "<style scoped>\n",
              "    .dataframe tbody tr th:only-of-type {\n",
              "        vertical-align: middle;\n",
              "    }\n",
              "\n",
              "    .dataframe tbody tr th {\n",
              "        vertical-align: top;\n",
              "    }\n",
              "\n",
              "    .dataframe thead th {\n",
              "        text-align: right;\n",
              "    }\n",
              "</style>\n",
              "<table border=\"1\" class=\"dataframe\">\n",
              "  <thead>\n",
              "    <tr style=\"text-align: right;\">\n",
              "      <th></th>\n",
              "      <th>Price</th>\n",
              "      <th>NumberOfRooms</th>\n",
              "      <th>District</th>\n",
              "      <th>YearOfConstruction</th>\n",
              "      <th>Floor</th>\n",
              "      <th>Area</th>\n",
              "      <th>Link</th>\n",
              "    </tr>\n",
              "  </thead>\n",
              "  <tbody>\n",
              "    <tr>\n",
              "      <th>310</th>\n",
              "      <td>от17200000</td>\n",
              "      <td>1</td>\n",
              "      <td>Алматинская</td>\n",
              "      <td>2024</td>\n",
              "      <td>43</td>\n",
              "      <td>совмещенный</td>\n",
              "      <td>/a/show/696340595</td>\n",
              "    </tr>\n",
              "    <tr>\n",
              "      <th>1729</th>\n",
              "      <td>63000000</td>\n",
              "      <td>3</td>\n",
              "      <td>Ауэзовский</td>\n",
              "      <td>2006</td>\n",
              "      <td>1</td>\n",
              "      <td>89.4</td>\n",
              "      <td>/a/show/696840789</td>\n",
              "    </tr>\n",
              "    <tr>\n",
              "      <th>855</th>\n",
              "      <td>от81432960</td>\n",
              "      <td>2</td>\n",
              "      <td>Бостандыкский</td>\n",
              "      <td>2025</td>\n",
              "      <td>92.96</td>\n",
              "      <td>2</td>\n",
              "      <td>/a/show/694723351</td>\n",
              "    </tr>\n",
              "    <tr>\n",
              "      <th>638</th>\n",
              "      <td>24500000</td>\n",
              "      <td>2</td>\n",
              "      <td>Жетысуский</td>\n",
              "      <td>1975</td>\n",
              "      <td>4</td>\n",
              "      <td>45.5</td>\n",
              "      <td>/a/show/696102217</td>\n",
              "    </tr>\n",
              "    <tr>\n",
              "      <th>327</th>\n",
              "      <td>от14706000</td>\n",
              "      <td>1</td>\n",
              "      <td>Алматинская</td>\n",
              "      <td>2025</td>\n",
              "      <td>34.04</td>\n",
              "      <td>совмещенный</td>\n",
              "      <td>/a/show/693821616</td>\n",
              "    </tr>\n",
              "  </tbody>\n",
              "</table>\n",
              "</div>"
            ],
            "text/plain": [
              "           Price  NumberOfRooms       District YearOfConstruction  Floor  \\\n",
              "310   от17200000              1    Алматинская               2024     43   \n",
              "1729    63000000              3     Ауэзовский               2006      1   \n",
              "855   от81432960              2  Бостандыкский               2025  92.96   \n",
              "638     24500000              2     Жетысуский               1975      4   \n",
              "327   от14706000              1    Алматинская               2025  34.04   \n",
              "\n",
              "             Area               Link  \n",
              "310   совмещенный  /a/show/696340595  \n",
              "1729         89.4  /a/show/696840789  \n",
              "855             2  /a/show/694723351  \n",
              "638          45.5  /a/show/696102217  \n",
              "327   совмещенный  /a/show/693821616  "
            ]
          },
          "execution_count": 5,
          "metadata": {},
          "output_type": "execute_result"
        }
      ],
      "source": [
        "train_df.sample(5)"
      ]
    },
    {
      "cell_type": "markdown",
      "metadata": {
        "id": "juUxQmhrMyyo"
      },
      "source": [
        "### Drop unnecessary columns"
      ]
    },
    {
      "cell_type": "code",
      "execution_count": 6,
      "metadata": {
        "colab": {
          "base_uri": "https://localhost:8080/"
        },
        "id": "vpHrMmk7Myyo",
        "outputId": "07bdbf9f-3fd8-4db7-e021-213d50df988f"
      },
      "outputs": [
        {
          "name": "stdout",
          "output_type": "stream",
          "text": [
            "train_df shape: (2002, 7)\n",
            "train_df shape after: (2002, 6)\n"
          ]
        }
      ],
      "source": [
        "print(f'train_df shape: {train_df.shape}')\n",
        "drop_cols = ['Link']\n",
        "train_df.drop(drop_cols, axis=1, inplace=True)\n",
        "print(f'train_df shape after: {train_df.shape}')"
      ]
    },
    {
      "cell_type": "markdown",
      "metadata": {
        "id": "YUoUDNG8Myyp"
      },
      "source": [
        "### Check NaNs"
      ]
    },
    {
      "cell_type": "code",
      "execution_count": 7,
      "metadata": {
        "colab": {
          "base_uri": "https://localhost:8080/"
        },
        "id": "8h9NfJZRMyyp",
        "outputId": "4f08df45-7f67-4028-93d0-ad52fe31942c"
      },
      "outputs": [
        {
          "name": "stdout",
          "output_type": "stream",
          "text": [
            "<class 'pandas.core.frame.DataFrame'>\n",
            "RangeIndex: 2002 entries, 0 to 2001\n",
            "Data columns (total 6 columns):\n",
            " #   Column              Non-Null Count  Dtype \n",
            "---  ------              --------------  ----- \n",
            " 0   Price               2002 non-null   object\n",
            " 1   NumberOfRooms       2002 non-null   int64 \n",
            " 2   District            2002 non-null   object\n",
            " 3   YearOfConstruction  2002 non-null   object\n",
            " 4   Floor               2002 non-null   object\n",
            " 5   Area                2002 non-null   object\n",
            "dtypes: int64(1), object(5)\n",
            "memory usage: 94.0+ KB\n"
          ]
        }
      ],
      "source": [
        "train_df.info()"
      ]
    },
    {
      "cell_type": "code",
      "execution_count": 8,
      "metadata": {
        "colab": {
          "base_uri": "https://localhost:8080/",
          "height": 272
        },
        "id": "bToY12ntMyyq",
        "outputId": "546f212e-8adf-4a7e-eb28-219c135ca51f"
      },
      "outputs": [
        {
          "data": {
            "text/plain": [
              "Price                 0\n",
              "NumberOfRooms         0\n",
              "District              0\n",
              "YearOfConstruction    0\n",
              "Floor                 0\n",
              "Area                  0\n",
              "dtype: int64"
            ]
          },
          "execution_count": 8,
          "metadata": {},
          "output_type": "execute_result"
        }
      ],
      "source": [
        "train_df.isna().sum()"
      ]
    },
    {
      "cell_type": "markdown",
      "metadata": {
        "id": "ttpu4E0YR5zN"
      },
      "source": [
        "Here I convert all columns (except District) to integer, and delete those that cannot be converted. Just the data that could not be converted is the lost Data. This happened because during parsing, some ads from krisha.kz differed from the template, so the ad was parsed instead of prices, the number of floors of the apartment instead of area, and so on. Since they cannot be restored, I decided to delete them. After cleaning the data, we see that we still have 1600+ rows from the original 2000\n"
      ]
    },
    {
      "cell_type": "code",
      "execution_count": 9,
      "metadata": {
        "colab": {
          "base_uri": "https://localhost:8080/",
          "height": 206
        },
        "id": "obt49CbsP18R",
        "outputId": "e4015030-4aeb-47f6-d1df-9f0367e88e5d"
      },
      "outputs": [
        {
          "data": {
            "text/html": [
              "<div>\n",
              "<style scoped>\n",
              "    .dataframe tbody tr th:only-of-type {\n",
              "        vertical-align: middle;\n",
              "    }\n",
              "\n",
              "    .dataframe tbody tr th {\n",
              "        vertical-align: top;\n",
              "    }\n",
              "\n",
              "    .dataframe thead th {\n",
              "        text-align: right;\n",
              "    }\n",
              "</style>\n",
              "<table border=\"1\" class=\"dataframe\">\n",
              "  <thead>\n",
              "    <tr style=\"text-align: right;\">\n",
              "      <th></th>\n",
              "      <th>Price</th>\n",
              "      <th>NumberOfRooms</th>\n",
              "      <th>District</th>\n",
              "      <th>YearOfConstruction</th>\n",
              "      <th>Floor</th>\n",
              "      <th>Area</th>\n",
              "    </tr>\n",
              "  </thead>\n",
              "  <tbody>\n",
              "    <tr>\n",
              "      <th>0</th>\n",
              "      <td>15000000</td>\n",
              "      <td>1</td>\n",
              "      <td>Жетысуский</td>\n",
              "      <td>1976</td>\n",
              "      <td>2</td>\n",
              "      <td>30.7</td>\n",
              "    </tr>\n",
              "    <tr>\n",
              "      <th>1</th>\n",
              "      <td>69000000</td>\n",
              "      <td>5</td>\n",
              "      <td>Наурызбайский</td>\n",
              "      <td>2008</td>\n",
              "      <td>4</td>\n",
              "      <td>150.0</td>\n",
              "    </tr>\n",
              "    <tr>\n",
              "      <th>2</th>\n",
              "      <td>70000000</td>\n",
              "      <td>3</td>\n",
              "      <td>Бостандыкский</td>\n",
              "      <td>2015</td>\n",
              "      <td>12</td>\n",
              "      <td>111.5</td>\n",
              "    </tr>\n",
              "    <tr>\n",
              "      <th>3</th>\n",
              "      <td>71000000</td>\n",
              "      <td>4</td>\n",
              "      <td>Алатауский</td>\n",
              "      <td>2024</td>\n",
              "      <td>11</td>\n",
              "      <td>118.0</td>\n",
              "    </tr>\n",
              "    <tr>\n",
              "      <th>4</th>\n",
              "      <td>34400000</td>\n",
              "      <td>2</td>\n",
              "      <td>Наурызбайский</td>\n",
              "      <td>2021</td>\n",
              "      <td>15</td>\n",
              "      <td>59.4</td>\n",
              "    </tr>\n",
              "  </tbody>\n",
              "</table>\n",
              "</div>"
            ],
            "text/plain": [
              "      Price  NumberOfRooms       District  YearOfConstruction  Floor   Area\n",
              "0  15000000              1     Жетысуский                1976      2   30.7\n",
              "1  69000000              5  Наурызбайский                2008      4  150.0\n",
              "2  70000000              3  Бостандыкский                2015     12  111.5\n",
              "3  71000000              4     Алатауский                2024     11  118.0\n",
              "4  34400000              2  Наурызбайский                2021     15   59.4"
            ]
          },
          "execution_count": 9,
          "metadata": {},
          "output_type": "execute_result"
        }
      ],
      "source": [
        "train_df[\"Price\"] = pd.to_numeric(train_df[\"Price\"], errors='coerce')\n",
        "train_df.dropna(subset=[\"Price\"], inplace=True)\n",
        "\n",
        "\n",
        "train_df[\"NumberOfRooms\"] = pd.to_numeric(train_df[\"NumberOfRooms\"], errors='coerce')\n",
        "train_df.dropna(subset=[\"NumberOfRooms\"], inplace=True)\n",
        "\n",
        "\n",
        "train_df[\"YearOfConstruction\"] = pd.to_numeric(train_df[\"YearOfConstruction\"], errors='coerce')\n",
        "train_df.dropna(subset=[\"YearOfConstruction\"], inplace=True)\n",
        "\n",
        "\n",
        "train_df[\"Floor\"] = pd.to_numeric(train_df[\"Floor\"], errors='coerce')\n",
        "train_df.dropna(subset=[\"Floor\"], inplace=True)\n",
        "\n",
        "train_df[\"Area\"] = pd.to_numeric(train_df[\"Area\"], errors='coerce')\n",
        "train_df.dropna(subset=[\"Area\"], inplace=True)\n",
        "\n",
        "types = {\"Price\": int, \"NumberOfRooms\": int, \"District\": str, \"YearOfConstruction\": int,\n",
        "         \"Floor\": int, \"Area\": float}\n",
        "train_df = train_df.astype(types)\n",
        "\n",
        "train_df.head()\n"
      ]
    },
    {
      "cell_type": "code",
      "execution_count": 10,
      "metadata": {
        "colab": {
          "base_uri": "https://localhost:8080/"
        },
        "id": "2yhxHs49RL1I",
        "outputId": "7b0fcbec-c3e8-4e44-a315-f4ce84708de3"
      },
      "outputs": [
        {
          "name": "stdout",
          "output_type": "stream",
          "text": [
            "Shape after cleaning data:  (1604, 6)\n"
          ]
        }
      ],
      "source": [
        "print(\"Shape after cleaning data: \", train_df.shape)"
      ]
    },
    {
      "cell_type": "code",
      "execution_count": 11,
      "metadata": {
        "colab": {
          "base_uri": "https://localhost:8080/",
          "height": 465
        },
        "id": "mr0gzQSDMyyq",
        "outputId": "848ae5a8-b964-4905-e219-3b273a34c82d"
      },
      "outputs": [
        {
          "data": {
            "text/plain": [
              "<Axes: >"
            ]
          },
          "execution_count": 11,
          "metadata": {},
          "output_type": "execute_result"
        },
        {
          "data": {
            "image/png": "[encoded data removed]",
            "text/plain": [
              "<Figure size 640x480 with 1 Axes>"
            ]
          },
          "metadata": {},
          "output_type": "display_data"
        }
      ],
      "source": [
        "train_df.Price.hist(bins=40)"
      ]
    },
    {
      "cell_type": "markdown",
      "metadata": {
        "id": "bqw9zn9CMyyr"
      },
      "source": [
        "### Encoding object (string) dtype --> numerical (float, int)"
      ]
    },
    {
      "cell_type": "code",
      "execution_count": 12,
      "metadata": {
        "colab": {
          "base_uri": "https://localhost:8080/",
          "height": 423
        },
        "id": "pkZRQ3yqMyys",
        "outputId": "efd51bbf-a36e-4ccd-816d-4ffe302508cc"
      },
      "outputs": [
        {
          "data": {
            "text/html": [
              "<div>\n",
              "<style scoped>\n",
              "    .dataframe tbody tr th:only-of-type {\n",
              "        vertical-align: middle;\n",
              "    }\n",
              "\n",
              "    .dataframe tbody tr th {\n",
              "        vertical-align: top;\n",
              "    }\n",
              "\n",
              "    .dataframe thead th {\n",
              "        text-align: right;\n",
              "    }\n",
              "</style>\n",
              "<table border=\"1\" class=\"dataframe\">\n",
              "  <thead>\n",
              "    <tr style=\"text-align: right;\">\n",
              "      <th></th>\n",
              "      <th>Price</th>\n",
              "      <th>NumberOfRooms</th>\n",
              "      <th>District</th>\n",
              "      <th>YearOfConstruction</th>\n",
              "      <th>Floor</th>\n",
              "      <th>Area</th>\n",
              "    </tr>\n",
              "  </thead>\n",
              "  <tbody>\n",
              "    <tr>\n",
              "      <th>0</th>\n",
              "      <td>15000000</td>\n",
              "      <td>1</td>\n",
              "      <td>Жетысуский</td>\n",
              "      <td>1976</td>\n",
              "      <td>2</td>\n",
              "      <td>30.7</td>\n",
              "    </tr>\n",
              "    <tr>\n",
              "      <th>1</th>\n",
              "      <td>69000000</td>\n",
              "      <td>5</td>\n",
              "      <td>Наурызбайский</td>\n",
              "      <td>2008</td>\n",
              "      <td>4</td>\n",
              "      <td>150.0</td>\n",
              "    </tr>\n",
              "    <tr>\n",
              "      <th>2</th>\n",
              "      <td>70000000</td>\n",
              "      <td>3</td>\n",
              "      <td>Бостандыкский</td>\n",
              "      <td>2015</td>\n",
              "      <td>12</td>\n",
              "      <td>111.5</td>\n",
              "    </tr>\n",
              "    <tr>\n",
              "      <th>3</th>\n",
              "      <td>71000000</td>\n",
              "      <td>4</td>\n",
              "      <td>Алатауский</td>\n",
              "      <td>2024</td>\n",
              "      <td>11</td>\n",
              "      <td>118.0</td>\n",
              "    </tr>\n",
              "    <tr>\n",
              "      <th>4</th>\n",
              "      <td>34400000</td>\n",
              "      <td>2</td>\n",
              "      <td>Наурызбайский</td>\n",
              "      <td>2021</td>\n",
              "      <td>15</td>\n",
              "      <td>59.4</td>\n",
              "    </tr>\n",
              "    <tr>\n",
              "      <th>...</th>\n",
              "      <td>...</td>\n",
              "      <td>...</td>\n",
              "      <td>...</td>\n",
              "      <td>...</td>\n",
              "      <td>...</td>\n",
              "      <td>...</td>\n",
              "    </tr>\n",
              "    <tr>\n",
              "      <th>1996</th>\n",
              "      <td>34500000</td>\n",
              "      <td>2</td>\n",
              "      <td>Алмалинский</td>\n",
              "      <td>2019</td>\n",
              "      <td>13</td>\n",
              "      <td>48.5</td>\n",
              "    </tr>\n",
              "    <tr>\n",
              "      <th>1997</th>\n",
              "      <td>18900000</td>\n",
              "      <td>2</td>\n",
              "      <td>Бостандыкский</td>\n",
              "      <td>1986</td>\n",
              "      <td>3</td>\n",
              "      <td>37.0</td>\n",
              "    </tr>\n",
              "    <tr>\n",
              "      <th>1998</th>\n",
              "      <td>36500000</td>\n",
              "      <td>2</td>\n",
              "      <td>Наурызбайский</td>\n",
              "      <td>2022</td>\n",
              "      <td>1</td>\n",
              "      <td>61.0</td>\n",
              "    </tr>\n",
              "    <tr>\n",
              "      <th>2000</th>\n",
              "      <td>32000000</td>\n",
              "      <td>2</td>\n",
              "      <td>Бостандыкский</td>\n",
              "      <td>1967</td>\n",
              "      <td>1</td>\n",
              "      <td>37.5</td>\n",
              "    </tr>\n",
              "    <tr>\n",
              "      <th>2001</th>\n",
              "      <td>43000000</td>\n",
              "      <td>1</td>\n",
              "      <td>Бостандыкский</td>\n",
              "      <td>2007</td>\n",
              "      <td>4</td>\n",
              "      <td>43.5</td>\n",
              "    </tr>\n",
              "  </tbody>\n",
              "</table>\n",
              "<p>1604 rows × 6 columns</p>\n",
              "</div>"
            ],
            "text/plain": [
              "         Price  NumberOfRooms       District  YearOfConstruction  Floor   Area\n",
              "0     15000000              1     Жетысуский                1976      2   30.7\n",
              "1     69000000              5  Наурызбайский                2008      4  150.0\n",
              "2     70000000              3  Бостандыкский                2015     12  111.5\n",
              "3     71000000              4     Алатауский                2024     11  118.0\n",
              "4     34400000              2  Наурызбайский                2021     15   59.4\n",
              "...        ...            ...            ...                 ...    ...    ...\n",
              "1996  34500000              2    Алмалинский                2019     13   48.5\n",
              "1997  18900000              2  Бостандыкский                1986      3   37.0\n",
              "1998  36500000              2  Наурызбайский                2022      1   61.0\n",
              "2000  32000000              2  Бостандыкский                1967      1   37.5\n",
              "2001  43000000              1  Бостандыкский                2007      4   43.5\n",
              "\n",
              "[1604 rows x 6 columns]"
            ]
          },
          "execution_count": 12,
          "metadata": {},
          "output_type": "execute_result"
        }
      ],
      "source": [
        "train_df"
      ]
    },
    {
      "cell_type": "code",
      "execution_count": 13,
      "metadata": {
        "colab": {
          "base_uri": "https://localhost:8080/",
          "height": 397
        },
        "id": "Mh1AIz66SjdW",
        "outputId": "9ab98f20-d634-4da9-9662-c94c7b4b864e"
      },
      "outputs": [
        {
          "data": {
            "text/plain": [
              "District\n",
              "Бостандыкский    367\n",
              "Ауэзовский       268\n",
              "Алмалинский      204\n",
              "Алатауский       196\n",
              "Наурызбайский    179\n",
              "Турксибский      134\n",
              "Медеуский        130\n",
              "Жетысуский       103\n",
              "Алматы            23\n",
              "Name: count, dtype: int64"
            ]
          },
          "execution_count": 13,
          "metadata": {},
          "output_type": "execute_result"
        }
      ],
      "source": [
        "train_df.District.value_counts()"
      ]
    },
    {
      "cell_type": "markdown",
      "metadata": {
        "id": "_plHUP48SzZc"
      },
      "source": [
        "We see that the \"Almaty\" region has popped up. This happened due to the fact that krisha.kz users made an advertisement incorrectly and indicated a city instead of a region. Since this may affect the regression, I decided to remove the rows with the Almaty region, there are only 23 of them."
      ]
    },
    {
      "cell_type": "code",
      "execution_count": 14,
      "metadata": {
        "colab": {
          "base_uri": "https://localhost:8080/"
        },
        "id": "UTjQ8A1OUDEO",
        "outputId": "6ed5994e-f7bb-4ce6-93aa-f3efc67868b7"
      },
      "outputs": [
        {
          "data": {
            "text/plain": [
              "Index([ 311,  574,  643,  700,  934,  984, 1158, 1191, 1249, 1261, 1276, 1288,\n",
              "       1295, 1473, 1519, 1624, 1680, 1703, 1715, 1745, 1749, 1931, 1959],\n",
              "      dtype='int64')"
            ]
          },
          "execution_count": 14,
          "metadata": {},
          "output_type": "execute_result"
        }
      ],
      "source": [
        "train_df[train_df[\"District\"] == \"Алматы\"].index"
      ]
    },
    {
      "cell_type": "code",
      "execution_count": 15,
      "metadata": {
        "id": "ppFa-ZcBTHcw"
      },
      "outputs": [],
      "source": [
        "train_df.drop(labels=train_df[train_df[\"District\"] == \"Алматы\"].index, axis=0, inplace=True)"
      ]
    },
    {
      "cell_type": "code",
      "execution_count": 16,
      "metadata": {
        "colab": {
          "base_uri": "https://localhost:8080/",
          "height": 366
        },
        "id": "r3KVRR9eUZs4",
        "outputId": "59fedf94-3800-4463-9b20-76046d844588"
      },
      "outputs": [
        {
          "data": {
            "text/plain": [
              "District\n",
              "Бостандыкский    367\n",
              "Ауэзовский       268\n",
              "Алмалинский      204\n",
              "Алатауский       196\n",
              "Наурызбайский    179\n",
              "Турксибский      134\n",
              "Медеуский        130\n",
              "Жетысуский       103\n",
              "Name: count, dtype: int64"
            ]
          },
          "execution_count": 16,
          "metadata": {},
          "output_type": "execute_result"
        }
      ],
      "source": [
        "train_df.District.value_counts()"
      ]
    },
    {
      "cell_type": "markdown",
      "metadata": {
        "id": "b0eSXKBKUc06"
      },
      "source": [
        "\n",
        "Now that we only have the areas that exist in reality, we can start one hot encoding"
      ]
    },
    {
      "cell_type": "code",
      "execution_count": 17,
      "metadata": {
        "id": "y3823x0-Myys"
      },
      "outputs": [],
      "source": [
        "train_label_enc_df = pd.get_dummies(train_df, columns=['District'])"
      ]
    },
    {
      "cell_type": "code",
      "execution_count": 18,
      "metadata": {
        "colab": {
          "base_uri": "https://localhost:8080/",
          "height": 226
        },
        "id": "c5LDC0CzMyys",
        "outputId": "8876d09d-5afc-4b5f-f33f-150005acea53"
      },
      "outputs": [
        {
          "data": {
            "text/html": [
              "<div>\n",
              "<style scoped>\n",
              "    .dataframe tbody tr th:only-of-type {\n",
              "        vertical-align: middle;\n",
              "    }\n",
              "\n",
              "    .dataframe tbody tr th {\n",
              "        vertical-align: top;\n",
              "    }\n",
              "\n",
              "    .dataframe thead th {\n",
              "        text-align: right;\n",
              "    }\n",
              "</style>\n",
              "<table border=\"1\" class=\"dataframe\">\n",
              "  <thead>\n",
              "    <tr style=\"text-align: right;\">\n",
              "      <th></th>\n",
              "      <th>Price</th>\n",
              "      <th>NumberOfRooms</th>\n",
              "      <th>YearOfConstruction</th>\n",
              "      <th>Floor</th>\n",
              "      <th>Area</th>\n",
              "      <th>District_Алатауский</th>\n",
              "      <th>District_Алмалинский</th>\n",
              "      <th>District_Ауэзовский</th>\n",
              "      <th>District_Бостандыкский</th>\n",
              "      <th>District_Жетысуский</th>\n",
              "      <th>District_Медеуский</th>\n",
              "      <th>District_Наурызбайский</th>\n",
              "      <th>District_Турксибский</th>\n",
              "    </tr>\n",
              "  </thead>\n",
              "  <tbody>\n",
              "    <tr>\n",
              "      <th>174</th>\n",
              "      <td>26500000</td>\n",
              "      <td>1</td>\n",
              "      <td>2022</td>\n",
              "      <td>1</td>\n",
              "      <td>33.0</td>\n",
              "      <td>False</td>\n",
              "      <td>False</td>\n",
              "      <td>True</td>\n",
              "      <td>False</td>\n",
              "      <td>False</td>\n",
              "      <td>False</td>\n",
              "      <td>False</td>\n",
              "      <td>False</td>\n",
              "    </tr>\n",
              "    <tr>\n",
              "      <th>1342</th>\n",
              "      <td>60000000</td>\n",
              "      <td>3</td>\n",
              "      <td>2011</td>\n",
              "      <td>19</td>\n",
              "      <td>121.0</td>\n",
              "      <td>False</td>\n",
              "      <td>True</td>\n",
              "      <td>False</td>\n",
              "      <td>False</td>\n",
              "      <td>False</td>\n",
              "      <td>False</td>\n",
              "      <td>False</td>\n",
              "      <td>False</td>\n",
              "    </tr>\n",
              "    <tr>\n",
              "      <th>1951</th>\n",
              "      <td>45000000</td>\n",
              "      <td>2</td>\n",
              "      <td>1978</td>\n",
              "      <td>7</td>\n",
              "      <td>65.4</td>\n",
              "      <td>False</td>\n",
              "      <td>True</td>\n",
              "      <td>False</td>\n",
              "      <td>False</td>\n",
              "      <td>False</td>\n",
              "      <td>False</td>\n",
              "      <td>False</td>\n",
              "      <td>False</td>\n",
              "    </tr>\n",
              "    <tr>\n",
              "      <th>1253</th>\n",
              "      <td>41500000</td>\n",
              "      <td>2</td>\n",
              "      <td>2019</td>\n",
              "      <td>7</td>\n",
              "      <td>40.0</td>\n",
              "      <td>False</td>\n",
              "      <td>False</td>\n",
              "      <td>False</td>\n",
              "      <td>True</td>\n",
              "      <td>False</td>\n",
              "      <td>False</td>\n",
              "      <td>False</td>\n",
              "      <td>False</td>\n",
              "    </tr>\n",
              "    <tr>\n",
              "      <th>1430</th>\n",
              "      <td>29000000</td>\n",
              "      <td>1</td>\n",
              "      <td>2024</td>\n",
              "      <td>11</td>\n",
              "      <td>44.7</td>\n",
              "      <td>False</td>\n",
              "      <td>False</td>\n",
              "      <td>True</td>\n",
              "      <td>False</td>\n",
              "      <td>False</td>\n",
              "      <td>False</td>\n",
              "      <td>False</td>\n",
              "      <td>False</td>\n",
              "    </tr>\n",
              "  </tbody>\n",
              "</table>\n",
              "</div>"
            ],
            "text/plain": [
              "         Price  NumberOfRooms  YearOfConstruction  Floor   Area  \\\n",
              "174   26500000              1                2022      1   33.0   \n",
              "1342  60000000              3                2011     19  121.0   \n",
              "1951  45000000              2                1978      7   65.4   \n",
              "1253  41500000              2                2019      7   40.0   \n",
              "1430  29000000              1                2024     11   44.7   \n",
              "\n",
              "      District_Алатауский  District_Алмалинский  District_Ауэзовский  \\\n",
              "174                 False                 False                 True   \n",
              "1342                False                  True                False   \n",
              "1951                False                  True                False   \n",
              "1253                False                 False                False   \n",
              "1430                False                 False                 True   \n",
              "\n",
              "      District_Бостандыкский  District_Жетысуский  District_Медеуский  \\\n",
              "174                    False                False               False   \n",
              "1342                   False                False               False   \n",
              "1951                   False                False               False   \n",
              "1253                    True                False               False   \n",
              "1430                   False                False               False   \n",
              "\n",
              "      District_Наурызбайский  District_Турксибский  \n",
              "174                    False                 False  \n",
              "1342                   False                 False  \n",
              "1951                   False                 False  \n",
              "1253                   False                 False  \n",
              "1430                   False                 False  "
            ]
          },
          "execution_count": 18,
          "metadata": {},
          "output_type": "execute_result"
        }
      ],
      "source": [
        "train_label_enc_df.sample(5)"
      ]
    },
    {
      "cell_type": "code",
      "execution_count": 19,
      "metadata": {
        "colab": {
          "base_uri": "https://localhost:8080/",
          "height": 226
        },
        "id": "VvKVAe4UVABX",
        "outputId": "85a993dd-c479-484f-fa5d-0eb86978db9d"
      },
      "outputs": [
        {
          "data": {
            "text/html": [
              "<div>\n",
              "<style scoped>\n",
              "    .dataframe tbody tr th:only-of-type {\n",
              "        vertical-align: middle;\n",
              "    }\n",
              "\n",
              "    .dataframe tbody tr th {\n",
              "        vertical-align: top;\n",
              "    }\n",
              "\n",
              "    .dataframe thead th {\n",
              "        text-align: right;\n",
              "    }\n",
              "</style>\n",
              "<table border=\"1\" class=\"dataframe\">\n",
              "  <thead>\n",
              "    <tr style=\"text-align: right;\">\n",
              "      <th></th>\n",
              "      <th>Price</th>\n",
              "      <th>NumberOfRooms</th>\n",
              "      <th>YearOfConstruction</th>\n",
              "      <th>Floor</th>\n",
              "      <th>Area</th>\n",
              "      <th>District_Алатауский</th>\n",
              "      <th>District_Алмалинский</th>\n",
              "      <th>District_Ауэзовский</th>\n",
              "      <th>District_Бостандыкский</th>\n",
              "      <th>District_Жетысуский</th>\n",
              "      <th>District_Медеуский</th>\n",
              "      <th>District_Наурызбайский</th>\n",
              "      <th>District_Турксибский</th>\n",
              "    </tr>\n",
              "  </thead>\n",
              "  <tbody>\n",
              "    <tr>\n",
              "      <th>616</th>\n",
              "      <td>32500000</td>\n",
              "      <td>2</td>\n",
              "      <td>2018</td>\n",
              "      <td>9</td>\n",
              "      <td>70.0</td>\n",
              "      <td>1</td>\n",
              "      <td>0</td>\n",
              "      <td>0</td>\n",
              "      <td>0</td>\n",
              "      <td>0</td>\n",
              "      <td>0</td>\n",
              "      <td>0</td>\n",
              "      <td>0</td>\n",
              "    </tr>\n",
              "    <tr>\n",
              "      <th>1958</th>\n",
              "      <td>28500000</td>\n",
              "      <td>2</td>\n",
              "      <td>2017</td>\n",
              "      <td>9</td>\n",
              "      <td>45.0</td>\n",
              "      <td>0</td>\n",
              "      <td>0</td>\n",
              "      <td>1</td>\n",
              "      <td>0</td>\n",
              "      <td>0</td>\n",
              "      <td>0</td>\n",
              "      <td>0</td>\n",
              "      <td>0</td>\n",
              "    </tr>\n",
              "    <tr>\n",
              "      <th>1087</th>\n",
              "      <td>55000000</td>\n",
              "      <td>3</td>\n",
              "      <td>2016</td>\n",
              "      <td>6</td>\n",
              "      <td>91.6</td>\n",
              "      <td>0</td>\n",
              "      <td>1</td>\n",
              "      <td>0</td>\n",
              "      <td>0</td>\n",
              "      <td>0</td>\n",
              "      <td>0</td>\n",
              "      <td>0</td>\n",
              "      <td>0</td>\n",
              "    </tr>\n",
              "    <tr>\n",
              "      <th>689</th>\n",
              "      <td>45000000</td>\n",
              "      <td>2</td>\n",
              "      <td>2012</td>\n",
              "      <td>10</td>\n",
              "      <td>108.0</td>\n",
              "      <td>0</td>\n",
              "      <td>0</td>\n",
              "      <td>0</td>\n",
              "      <td>0</td>\n",
              "      <td>0</td>\n",
              "      <td>0</td>\n",
              "      <td>1</td>\n",
              "      <td>0</td>\n",
              "    </tr>\n",
              "    <tr>\n",
              "      <th>1569</th>\n",
              "      <td>36500000</td>\n",
              "      <td>2</td>\n",
              "      <td>2019</td>\n",
              "      <td>4</td>\n",
              "      <td>58.0</td>\n",
              "      <td>1</td>\n",
              "      <td>0</td>\n",
              "      <td>0</td>\n",
              "      <td>0</td>\n",
              "      <td>0</td>\n",
              "      <td>0</td>\n",
              "      <td>0</td>\n",
              "      <td>0</td>\n",
              "    </tr>\n",
              "  </tbody>\n",
              "</table>\n",
              "</div>"
            ],
            "text/plain": [
              "         Price  NumberOfRooms  YearOfConstruction  Floor   Area  \\\n",
              "616   32500000              2                2018      9   70.0   \n",
              "1958  28500000              2                2017      9   45.0   \n",
              "1087  55000000              3                2016      6   91.6   \n",
              "689   45000000              2                2012     10  108.0   \n",
              "1569  36500000              2                2019      4   58.0   \n",
              "\n",
              "      District_Алатауский  District_Алмалинский  District_Ауэзовский  \\\n",
              "616                     1                     0                    0   \n",
              "1958                    0                     0                    1   \n",
              "1087                    0                     1                    0   \n",
              "689                     0                     0                    0   \n",
              "1569                    1                     0                    0   \n",
              "\n",
              "      District_Бостандыкский  District_Жетысуский  District_Медеуский  \\\n",
              "616                        0                    0                   0   \n",
              "1958                       0                    0                   0   \n",
              "1087                       0                    0                   0   \n",
              "689                        0                    0                   0   \n",
              "1569                       0                    0                   0   \n",
              "\n",
              "      District_Наурызбайский  District_Турксибский  \n",
              "616                        0                     0  \n",
              "1958                       0                     0  \n",
              "1087                       0                     0  \n",
              "689                        1                     0  \n",
              "1569                       0                     0  "
            ]
          },
          "execution_count": 19,
          "metadata": {},
          "output_type": "execute_result"
        }
      ],
      "source": [
        "types = {\"District_Алатауский\": int, \"District_Алмалинский\": int, \"District_Ауэзовский\": int, \"District_Бостандыкский\": int, \"District_Жетысуский\": int,\n",
        "         \"District_Медеуский\": int, \"District_Наурызбайский\": int, \"District_Турксибский\": int}\n",
        "train_label_enc_df = train_label_enc_df.astype(types)\n",
        "train_label_enc_df.sample(5)"
      ]
    },
    {
      "cell_type": "markdown",
      "metadata": {
        "id": "tSGF7ozeVZwy"
      },
      "source": [
        "\n",
        "Converted new columns to int"
      ]
    },
    {
      "cell_type": "markdown",
      "metadata": {
        "id": "p7EP90I2Myys"
      },
      "source": [
        "### EDA"
      ]
    },
    {
      "cell_type": "code",
      "execution_count": 20,
      "metadata": {
        "id": "Uv0tFR94Myys"
      },
      "outputs": [],
      "source": [
        "def plot_hist(df, col):\n",
        "    plt.hist(df[col])\n",
        "    plt.axvline(df[col].mean(), color='r', linestyle='dashed', linewidth=3)\n",
        "    plt.axvline(df[col].median(), color='g', linestyle='dashed', linewidth=3)\n",
        "    plt.axvline(df[col].mean() - df[col].std(), color='y', linestyle='dashed', linewidth=3)\n",
        "    plt.axvline(df[col].mean() + df[col].std(), color='y', linestyle='dashed', linewidth=3)\n",
        "    plt.show()\n",
        "\n",
        "def plot_count_plot(df, col='None'):\n",
        "    sns.countplot(df, x=col)\n",
        "    plt.show()"
      ]
    },
    {
      "cell_type": "code",
      "execution_count": 21,
      "metadata": {
        "colab": {
          "base_uri": "https://localhost:8080/",
          "height": 448
        },
        "id": "3ygXQUiYMyyt",
        "outputId": "ee2a56cc-6477-4f39-a5bb-bc54addb66f9"
      },
      "outputs": [
        {
          "data": {
            "image/png": "[encoded data removed]",
            "text/plain": [
              "<Figure size 640x480 with 1 Axes>"
            ]
          },
          "metadata": {},
          "output_type": "display_data"
        }
      ],
      "source": [
        "plot_hist(train_label_enc_df, \"Price\")"
      ]
    },
    {
      "cell_type": "code",
      "execution_count": 22,
      "metadata": {
        "colab": {
          "base_uri": "https://localhost:8080/",
          "height": 449
        },
        "id": "6pu1CR-fMyyt",
        "outputId": "b1ecb048-0c8a-4d8f-fd05-aeb313e461e7"
      },
      "outputs": [
        {
          "data": {
            "image/png": "[encoded data removed]",
            "text/plain": [
              "<Figure size 640x480 with 1 Axes>"
            ]
          },
          "metadata": {},
          "output_type": "display_data"
        }
      ],
      "source": [
        "plot_count_plot(train_label_enc_df, \"NumberOfRooms\")"
      ]
    },
    {
      "cell_type": "code",
      "execution_count": 23,
      "metadata": {
        "colab": {
          "base_uri": "https://localhost:8080/",
          "height": 634
        },
        "id": "1rhlG7NzMyyt",
        "outputId": "a3e6ad03-4574-4a2b-b16d-02f2f147481e"
      },
      "outputs": [
        {
          "data": {
            "image/png": "[encoded data removed]",
            "text/plain": [
              "<Figure size 700x700 with 1 Axes>"
            ]
          },
          "metadata": {},
          "output_type": "display_data"
        }
      ],
      "source": [
        "plt.figure(figsize=(7, 7))\n",
        "sns.scatterplot(x='Area', y='Price', data=train_label_enc_df)\n",
        "plt.show()"
      ]
    },
    {
      "cell_type": "markdown",
      "metadata": {
        "id": "ahDOX2cYXJ1G"
      },
      "source": [
        "\n",
        "Based on the graph above, we see a positive correlation between area and price for apartments"
      ]
    },
    {
      "cell_type": "code",
      "execution_count": 24,
      "metadata": {
        "colab": {
          "base_uri": "https://localhost:8080/",
          "height": 681
        },
        "id": "LekclbjKMyyt",
        "outputId": "26d73a9b-6a44-4ecd-f31d-1dd9b657fa7e"
      },
      "outputs": [
        {
          "name": "stdout",
          "output_type": "stream",
          "text": [
            "Performing EDA...\n"
          ]
        },
        {
          "data": {
            "image/png": "[encoded data removed]",
            "text/plain": [
              "<Figure size 800x600 with 2 Axes>"
            ]
          },
          "metadata": {},
          "output_type": "display_data"
        }
      ],
      "source": [
        "# Step 3: EDA\n",
        "print(\"Performing EDA...\")\n",
        "plt.figure(figsize=(8, 6))\n",
        "sns.heatmap(train_df[[\"Price\", \"NumberOfRooms\", \"YearOfConstruction\", \"Floor\", \"Area\"]].corr(), annot=True, cmap='coolwarm')\n",
        "plt.title('Correlation Heatmap')\n",
        "plt.show()\n"
      ]
    },
    {
      "cell_type": "markdown",
      "metadata": {
        "id": "ey54Vb5pX0JP"
      },
      "source": [
        "Conclusion from EDA:\n",
        "\n",
        "\n",
        "1. Correlation between price and area - +0.85\n",
        "2. Correlation between price and number of rooms - +0.65\n",
        "3. Correlation between price and year of construction - +0.15\n",
        "4. Correlation between the price and floor of the apartment - +0.12\n"
      ]
    },
    {
      "cell_type": "code",
      "execution_count": 25,
      "metadata": {
        "colab": {
          "base_uri": "https://localhost:8080/",
          "height": 226
        },
        "id": "SYU2GvS4fc9B",
        "outputId": "9c16840b-64c3-4bbe-df8a-d3e4d155e6e4"
      },
      "outputs": [
        {
          "data": {
            "text/html": [
              "<div>\n",
              "<style scoped>\n",
              "    .dataframe tbody tr th:only-of-type {\n",
              "        vertical-align: middle;\n",
              "    }\n",
              "\n",
              "    .dataframe tbody tr th {\n",
              "        vertical-align: top;\n",
              "    }\n",
              "\n",
              "    .dataframe thead th {\n",
              "        text-align: right;\n",
              "    }\n",
              "</style>\n",
              "<table border=\"1\" class=\"dataframe\">\n",
              "  <thead>\n",
              "    <tr style=\"text-align: right;\">\n",
              "      <th></th>\n",
              "      <th>Price</th>\n",
              "      <th>NumberOfRooms</th>\n",
              "      <th>YearOfConstruction</th>\n",
              "      <th>Floor</th>\n",
              "      <th>Area</th>\n",
              "      <th>District_Алатауский</th>\n",
              "      <th>District_Алмалинский</th>\n",
              "      <th>District_Ауэзовский</th>\n",
              "      <th>District_Бостандыкский</th>\n",
              "      <th>District_Жетысуский</th>\n",
              "      <th>District_Медеуский</th>\n",
              "      <th>District_Наурызбайский</th>\n",
              "      <th>District_Турксибский</th>\n",
              "    </tr>\n",
              "  </thead>\n",
              "  <tbody>\n",
              "    <tr>\n",
              "      <th>0</th>\n",
              "      <td>15000000</td>\n",
              "      <td>1</td>\n",
              "      <td>1976</td>\n",
              "      <td>2</td>\n",
              "      <td>30.7</td>\n",
              "      <td>0</td>\n",
              "      <td>0</td>\n",
              "      <td>0</td>\n",
              "      <td>0</td>\n",
              "      <td>1</td>\n",
              "      <td>0</td>\n",
              "      <td>0</td>\n",
              "      <td>0</td>\n",
              "    </tr>\n",
              "    <tr>\n",
              "      <th>1</th>\n",
              "      <td>69000000</td>\n",
              "      <td>5</td>\n",
              "      <td>2008</td>\n",
              "      <td>4</td>\n",
              "      <td>150.0</td>\n",
              "      <td>0</td>\n",
              "      <td>0</td>\n",
              "      <td>0</td>\n",
              "      <td>0</td>\n",
              "      <td>0</td>\n",
              "      <td>0</td>\n",
              "      <td>1</td>\n",
              "      <td>0</td>\n",
              "    </tr>\n",
              "    <tr>\n",
              "      <th>2</th>\n",
              "      <td>70000000</td>\n",
              "      <td>3</td>\n",
              "      <td>2015</td>\n",
              "      <td>12</td>\n",
              "      <td>111.5</td>\n",
              "      <td>0</td>\n",
              "      <td>0</td>\n",
              "      <td>0</td>\n",
              "      <td>1</td>\n",
              "      <td>0</td>\n",
              "      <td>0</td>\n",
              "      <td>0</td>\n",
              "      <td>0</td>\n",
              "    </tr>\n",
              "    <tr>\n",
              "      <th>3</th>\n",
              "      <td>71000000</td>\n",
              "      <td>4</td>\n",
              "      <td>2024</td>\n",
              "      <td>11</td>\n",
              "      <td>118.0</td>\n",
              "      <td>1</td>\n",
              "      <td>0</td>\n",
              "      <td>0</td>\n",
              "      <td>0</td>\n",
              "      <td>0</td>\n",
              "      <td>0</td>\n",
              "      <td>0</td>\n",
              "      <td>0</td>\n",
              "    </tr>\n",
              "    <tr>\n",
              "      <th>4</th>\n",
              "      <td>34400000</td>\n",
              "      <td>2</td>\n",
              "      <td>2021</td>\n",
              "      <td>15</td>\n",
              "      <td>59.4</td>\n",
              "      <td>0</td>\n",
              "      <td>0</td>\n",
              "      <td>0</td>\n",
              "      <td>0</td>\n",
              "      <td>0</td>\n",
              "      <td>0</td>\n",
              "      <td>1</td>\n",
              "      <td>0</td>\n",
              "    </tr>\n",
              "  </tbody>\n",
              "</table>\n",
              "</div>"
            ],
            "text/plain": [
              "      Price  NumberOfRooms  YearOfConstruction  Floor   Area  \\\n",
              "0  15000000              1                1976      2   30.7   \n",
              "1  69000000              5                2008      4  150.0   \n",
              "2  70000000              3                2015     12  111.5   \n",
              "3  71000000              4                2024     11  118.0   \n",
              "4  34400000              2                2021     15   59.4   \n",
              "\n",
              "   District_Алатауский  District_Алмалинский  District_Ауэзовский  \\\n",
              "0                    0                     0                    0   \n",
              "1                    0                     0                    0   \n",
              "2                    0                     0                    0   \n",
              "3                    1                     0                    0   \n",
              "4                    0                     0                    0   \n",
              "\n",
              "   District_Бостандыкский  District_Жетысуский  District_Медеуский  \\\n",
              "0                       0                    1                   0   \n",
              "1                       0                    0                   0   \n",
              "2                       1                    0                   0   \n",
              "3                       0                    0                   0   \n",
              "4                       0                    0                   0   \n",
              "\n",
              "   District_Наурызбайский  District_Турксибский  \n",
              "0                       0                     0  \n",
              "1                       1                     0  \n",
              "2                       0                     0  \n",
              "3                       0                     0  \n",
              "4                       1                     0  "
            ]
          },
          "execution_count": 25,
          "metadata": {},
          "output_type": "execute_result"
        }
      ],
      "source": [
        "train_label_enc_df.head()"
      ]
    },
    {
      "cell_type": "code",
      "execution_count": 26,
      "metadata": {
        "id": "h-qqxgEscqpg"
      },
      "outputs": [],
      "source": [
        "# Standardizing data\n",
        "\n",
        "standardized_data = train_label_enc_df.copy()\n",
        "\n",
        "# Z-Score using scipy\n",
        "standardized_data['NumberOfRooms'] = stats.zscore(train_label_enc_df['NumberOfRooms'])\n",
        "\n",
        "standardized_data['YearOfConstruction'] = stats.zscore(train_label_enc_df['YearOfConstruction'])\n",
        "\n",
        "standardized_data['Floor'] = stats.zscore(train_label_enc_df['Floor'])\n",
        "\n",
        "standardized_data['Area'] = stats.zscore(train_label_enc_df['Area'])\n",
        "\n",
        "standardized_data['District_Алатауский'] = stats.zscore(train_label_enc_df['District_Алатауский'])\n",
        "\n",
        "standardized_data['District_Алмалинский'] = stats.zscore(train_label_enc_df['District_Алмалинский'])\n",
        "\n",
        "standardized_data['District_Ауэзовский'] = stats.zscore(train_label_enc_df['District_Ауэзовский'])\n",
        "\n",
        "standardized_data['District_Бостандыкский'] = stats.zscore(train_label_enc_df['District_Бостандыкский'])\n",
        "\n",
        "standardized_data['District_Жетысуский'] = stats.zscore(train_label_enc_df['District_Жетысуский'])\n",
        "\n",
        "standardized_data['District_Медеуский'] = stats.zscore(train_label_enc_df['District_Медеуский'])\n",
        "\n",
        "standardized_data['District_Наурызбайский'] = stats.zscore(train_label_enc_df['District_Наурызбайский'])\n",
        "\n",
        "standardized_data['District_Турксибский'] = stats.zscore(train_label_enc_df['District_Турксибский'])"
      ]
    },
    {
      "cell_type": "code",
      "execution_count": 27,
      "metadata": {
        "colab": {
          "base_uri": "https://localhost:8080/",
          "height": 226
        },
        "id": "iQqHs4mQdFOC",
        "outputId": "691bba4e-28b6-4ab1-ae01-8a0f3b096873"
      },
      "outputs": [
        {
          "data": {
            "text/html": [
              "<div>\n",
              "<style scoped>\n",
              "    .dataframe tbody tr th:only-of-type {\n",
              "        vertical-align: middle;\n",
              "    }\n",
              "\n",
              "    .dataframe tbody tr th {\n",
              "        vertical-align: top;\n",
              "    }\n",
              "\n",
              "    .dataframe thead th {\n",
              "        text-align: right;\n",
              "    }\n",
              "</style>\n",
              "<table border=\"1\" class=\"dataframe\">\n",
              "  <thead>\n",
              "    <tr style=\"text-align: right;\">\n",
              "      <th></th>\n",
              "      <th>Price</th>\n",
              "      <th>NumberOfRooms</th>\n",
              "      <th>YearOfConstruction</th>\n",
              "      <th>Floor</th>\n",
              "      <th>Area</th>\n",
              "      <th>District_Алатауский</th>\n",
              "      <th>District_Алмалинский</th>\n",
              "      <th>District_Ауэзовский</th>\n",
              "      <th>District_Бостандыкский</th>\n",
              "      <th>District_Жетысуский</th>\n",
              "      <th>District_Медеуский</th>\n",
              "      <th>District_Наурызбайский</th>\n",
              "      <th>District_Турксибский</th>\n",
              "    </tr>\n",
              "  </thead>\n",
              "  <tbody>\n",
              "    <tr>\n",
              "      <th>0</th>\n",
              "      <td>15000000</td>\n",
              "      <td>-1.344279</td>\n",
              "      <td>-1.672685</td>\n",
              "      <td>-0.909262</td>\n",
              "      <td>-1.048606</td>\n",
              "      <td>-0.376186</td>\n",
              "      <td>-0.3849</td>\n",
              "      <td>-0.451788</td>\n",
              "      <td>-0.549824</td>\n",
              "      <td>3.788075</td>\n",
              "      <td>-0.299322</td>\n",
              "      <td>-0.357316</td>\n",
              "      <td>-0.304311</td>\n",
              "    </tr>\n",
              "    <tr>\n",
              "      <th>1</th>\n",
              "      <td>69000000</td>\n",
              "      <td>2.929839</td>\n",
              "      <td>0.009409</td>\n",
              "      <td>-0.407502</td>\n",
              "      <td>2.267025</td>\n",
              "      <td>-0.376186</td>\n",
              "      <td>-0.3849</td>\n",
              "      <td>-0.451788</td>\n",
              "      <td>-0.549824</td>\n",
              "      <td>-0.263986</td>\n",
              "      <td>-0.299322</td>\n",
              "      <td>2.798643</td>\n",
              "      <td>-0.304311</td>\n",
              "    </tr>\n",
              "    <tr>\n",
              "      <th>2</th>\n",
              "      <td>70000000</td>\n",
              "      <td>0.792780</td>\n",
              "      <td>0.377367</td>\n",
              "      <td>1.599539</td>\n",
              "      <td>1.197019</td>\n",
              "      <td>-0.376186</td>\n",
              "      <td>-0.3849</td>\n",
              "      <td>-0.451788</td>\n",
              "      <td>1.818764</td>\n",
              "      <td>-0.263986</td>\n",
              "      <td>-0.299322</td>\n",
              "      <td>-0.357316</td>\n",
              "      <td>-0.304311</td>\n",
              "    </tr>\n",
              "    <tr>\n",
              "      <th>3</th>\n",
              "      <td>71000000</td>\n",
              "      <td>1.861310</td>\n",
              "      <td>0.850456</td>\n",
              "      <td>1.348659</td>\n",
              "      <td>1.377669</td>\n",
              "      <td>2.658256</td>\n",
              "      <td>-0.3849</td>\n",
              "      <td>-0.451788</td>\n",
              "      <td>-0.549824</td>\n",
              "      <td>-0.263986</td>\n",
              "      <td>-0.299322</td>\n",
              "      <td>-0.357316</td>\n",
              "      <td>-0.304311</td>\n",
              "    </tr>\n",
              "    <tr>\n",
              "      <th>4</th>\n",
              "      <td>34400000</td>\n",
              "      <td>-0.275750</td>\n",
              "      <td>0.692760</td>\n",
              "      <td>2.352180</td>\n",
              "      <td>-0.250965</td>\n",
              "      <td>-0.376186</td>\n",
              "      <td>-0.3849</td>\n",
              "      <td>-0.451788</td>\n",
              "      <td>-0.549824</td>\n",
              "      <td>-0.263986</td>\n",
              "      <td>-0.299322</td>\n",
              "      <td>2.798643</td>\n",
              "      <td>-0.304311</td>\n",
              "    </tr>\n",
              "  </tbody>\n",
              "</table>\n",
              "</div>"
            ],
            "text/plain": [
              "      Price  NumberOfRooms  YearOfConstruction     Floor      Area  \\\n",
              "0  15000000      -1.344279           -1.672685 -0.909262 -1.048606   \n",
              "1  69000000       2.929839            0.009409 -0.407502  2.267025   \n",
              "2  70000000       0.792780            0.377367  1.599539  1.197019   \n",
              "3  71000000       1.861310            0.850456  1.348659  1.377669   \n",
              "4  34400000      -0.275750            0.692760  2.352180 -0.250965   \n",
              "\n",
              "   District_Алатауский  District_Алмалинский  District_Ауэзовский  \\\n",
              "0            -0.376186               -0.3849            -0.451788   \n",
              "1            -0.376186               -0.3849            -0.451788   \n",
              "2            -0.376186               -0.3849            -0.451788   \n",
              "3             2.658256               -0.3849            -0.451788   \n",
              "4            -0.376186               -0.3849            -0.451788   \n",
              "\n",
              "   District_Бостандыкский  District_Жетысуский  District_Медеуский  \\\n",
              "0               -0.549824             3.788075           -0.299322   \n",
              "1               -0.549824            -0.263986           -0.299322   \n",
              "2                1.818764            -0.263986           -0.299322   \n",
              "3               -0.549824            -0.263986           -0.299322   \n",
              "4               -0.549824            -0.263986           -0.299322   \n",
              "\n",
              "   District_Наурызбайский  District_Турксибский  \n",
              "0               -0.357316             -0.304311  \n",
              "1                2.798643             -0.304311  \n",
              "2               -0.357316             -0.304311  \n",
              "3               -0.357316             -0.304311  \n",
              "4                2.798643             -0.304311  "
            ]
          },
          "execution_count": 27,
          "metadata": {},
          "output_type": "execute_result"
        }
      ],
      "source": [
        "standardized_data.head()"
      ]
    },
    {
      "cell_type": "markdown",
      "metadata": {
        "id": "3bb91vD-Myyt"
      },
      "source": [
        "### Modelling"
      ]
    },
    {
      "cell_type": "markdown",
      "metadata": {
        "id": "tszS1PPPOcky"
      },
      "source": [
        "\n",
        "Let's start with Decision Tree Regression\n"
      ]
    },
    {
      "cell_type": "code",
      "execution_count": 28,
      "metadata": {
        "id": "v14lVM02OkzQ"
      },
      "outputs": [],
      "source": [
        "X = standardized_data.drop('Price', axis=1)\n",
        "y = standardized_data['Price']\n",
        "X_train, X_test, y_train, y_test = train_test_split(X, y, test_size=0.2, random_state=42)"
      ]
    },
    {
      "cell_type": "code",
      "execution_count": 29,
      "metadata": {
        "colab": {
          "base_uri": "https://localhost:8080/"
        },
        "id": "JlnI1I-nOffX",
        "outputId": "764da45a-9ed1-4855-f9b8-d226814c9c54"
      },
      "outputs": [
        {
          "name": "stdout",
          "output_type": "stream",
          "text": [
            "r2_score for Decision Tree :  0.5984510511099119\n",
            "mean_absolute_error for Decision Tree :  10253591.507886436\n"
          ]
        }
      ],
      "source": [
        "decision_tree_model = tree.DecisionTreeRegressor()\n",
        "decision_tree_model = decision_tree_model.fit(X_train, y_train)\n",
        "\n",
        "decision_tree_predictions = decision_tree_model.predict(X_test)\n",
        "\n",
        "print('r2_score for Decision Tree : ', r2_score(y_test, decision_tree_predictions))\n",
        "print('mean_absolute_error for Decision Tree : ', mean_absolute_error(y_test, decision_tree_predictions))"
      ]
    },
    {
      "cell_type": "code",
      "execution_count": 30,
      "metadata": {},
      "outputs": [
        {
          "name": "stdout",
          "output_type": "stream",
          "text": [
            "r2_score for Random Forest :  0.7670712185979828\n",
            "mean_absolute_error for Random Forest :  7772437.688885383\n"
          ]
        }
      ],
      "source": [
        "random_forest_model = RandomForestRegressor(n_estimators=100, random_state=42)\n",
        "random_forest_model = random_forest_model.fit(X_train, y_train)\n",
        "\n",
        "random_forest_predictions = random_forest_model.predict(X_test)\n",
        "\n",
        "print('r2_score for Random Forest : ', r2_score(y_test, random_forest_predictions))\n",
        "print('mean_absolute_error for Random Forest : ', mean_absolute_error(y_test, random_forest_predictions))"
      ]
    },
    {
      "cell_type": "code",
      "execution_count": 31,
      "metadata": {},
      "outputs": [
        {
          "name": "stdout",
          "output_type": "stream",
          "text": [
            "r2_score for XGBoost :  0.7581350803375244\n",
            "mean_absolute_error for XGBoost :  7976300.829652997\n"
          ]
        }
      ],
      "source": [
        "xgb_model = xgb.XGBRegressor(objective=\"reg:squarederror\", random_state=42)\n",
        "xgb_model = xgb_model.fit(X_train, y_train)\n",
        "\n",
        "xgb_predictions = xgb_model.predict(X_test)\n",
        "\n",
        "print('r2_score for XGBoost : ', r2_score(y_test, xgb_predictions))\n",
        "print('mean_absolute_error for XGBoost : ', mean_absolute_error(y_test, xgb_predictions))"
      ]
    },
    {
      "cell_type": "code",
      "execution_count": 32,
      "metadata": {},
      "outputs": [
        {
          "name": "stdout",
          "output_type": "stream",
          "text": [
            "Best parameters: {'max_depth': 10, 'min_samples_split': 2, 'n_estimators': 100}\n",
            "Best score: 0.7560720962021309\n"
          ]
        }
      ],
      "source": [
        "param_grid = {\n",
        "    'n_estimators': [100, 200, 300, 400, 500],\n",
        "    'max_depth': [None, 5, 10, 20, 30],\n",
        "    'min_samples_split': [2, 5, 10]\n",
        "}\n",
        "\n",
        "grid_search = GridSearchCV(estimator=random_forest_model, param_grid=param_grid, cv=5)\n",
        "grid_search.fit(X_train, y_train)\n",
        "\n",
        "best_params = grid_search.best_params_\n",
        "best_score = grid_search.best_score_\n",
        "\n",
        "print(\"Best parameters:\", best_params)\n",
        "print(\"Best score:\", best_score)\n"
      ]
    },
    {
      "cell_type": "markdown",
      "metadata": {
        "id": "0r-b-QjGOnYu"
      },
      "source": [
        "Best R2 score for tree models came out to be  0.76 from Random Forest Model. Now let's try different regression models"
      ]
    },
    {
      "cell_type": "markdown",
      "metadata": {
        "id": "dGJHNZFgOyBn"
      },
      "source": [
        "\n",
        "Let's start with Multiple Regression"
      ]
    },
    {
      "cell_type": "code",
      "execution_count": 33,
      "metadata": {
        "colab": {
          "base_uri": "https://localhost:8080/"
        },
        "id": "m_qJ9NXtMyyt",
        "outputId": "2fe69eef-ed32-4eac-ba52-27b2f60e6bc7"
      },
      "outputs": [
        {
          "name": "stdout",
          "output_type": "stream",
          "text": [
            "r2_score for Multiple Regression :  0.7334332508848325\n",
            "mean_absolute_error for Multiple Regression :  9480420.534405822\n"
          ]
        }
      ],
      "source": [
        "\n",
        "model = linear_model.LinearRegression()\n",
        "model.fit(X_train, y_train)\n",
        "\n",
        "predictions = model.predict(X_test)\n",
        "\n",
        "print('r2_score for Multiple Regression : ', r2_score(y_test, predictions))\n",
        "print('mean_absolute_error for Multiple Regression : ', mean_absolute_error(y_test, predictions))"
      ]
    },
    {
      "cell_type": "markdown",
      "metadata": {
        "id": "e6xQ7f2tq669"
      },
      "source": [
        "Rigde Regression\n"
      ]
    },
    {
      "cell_type": "code",
      "execution_count": 34,
      "metadata": {
        "colab": {
          "base_uri": "https://localhost:8080/"
        },
        "id": "_vDQDJrXq8zK",
        "outputId": "7b18e26a-62e9-4bf3-c206-4c7912fda2df"
      },
      "outputs": [
        {
          "name": "stdout",
          "output_type": "stream",
          "text": [
            "r2_score for Ridge Regression :  0.7389084375038684\n",
            "mean_absolute_error for Ridge Regression:  9222465.40275005\n"
          ]
        }
      ],
      "source": [
        "ridge_model = linear_model.Ridge()\n",
        "ridge_model = ridge_model.fit(X_train, y_train)\n",
        "\n",
        "ridge_predictions = ridge_model.predict(X_test)\n",
        "\n",
        "print('r2_score for Ridge Regression : ', r2_score(y_test, ridge_predictions))\n",
        "print('mean_absolute_error for Ridge Regression: ', mean_absolute_error(y_test, ridge_predictions))"
      ]
    },
    {
      "cell_type": "markdown",
      "metadata": {
        "id": "WB7Xf5M1rI5r"
      },
      "source": [
        "Lasso Regression\n"
      ]
    },
    {
      "cell_type": "code",
      "execution_count": 35,
      "metadata": {
        "colab": {
          "base_uri": "https://localhost:8080/"
        },
        "id": "fYkXOUrGrKni",
        "outputId": "49a0f794-18ab-44f2-e91b-3f41b438ad64"
      },
      "outputs": [
        {
          "name": "stdout",
          "output_type": "stream",
          "text": [
            "r2_score for Lasso Regression:  0.7390612677700154\n",
            "mean_absolute_error for Lasso Regression:  9225257.648709398\n"
          ]
        },
        {
          "name": "stderr",
          "output_type": "stream",
          "text": [
            "C:\\Users\\Adil\\AppData\\Roaming\\Python\\Python39\\site-packages\\sklearn\\linear_model\\_coordinate_descent.py:697: ConvergenceWarning: Objective did not converge. You might want to increase the number of iterations, check the scale of the features or consider increasing regularisation. Duality gap: 1.381e+16, tolerance: 1.975e+14\n",
            "  model = cd_fast.enet_coordinate_descent(\n"
          ]
        }
      ],
      "source": [
        "lasso_model = linear_model.Lasso()\n",
        "lasso_model = lasso_model.fit(X_train, y_train)\n",
        "\n",
        "lasso_predictions = lasso_model.predict(X_test)\n",
        "\n",
        "print('r2_score for Lasso Regression: ', r2_score(y_test, lasso_predictions))\n",
        "print('mean_absolute_error for Lasso Regression: ', mean_absolute_error(y_test, lasso_predictions))"
      ]
    },
    {
      "cell_type": "markdown",
      "metadata": {
        "id": "7V33rNaore_O"
      },
      "source": [
        "Elastic Net"
      ]
    },
    {
      "cell_type": "code",
      "execution_count": 36,
      "metadata": {
        "colab": {
          "base_uri": "https://localhost:8080/"
        },
        "id": "r_VwHaK3rfn6",
        "outputId": "4ae23f1e-94dc-44f8-b180-5875169aa601"
      },
      "outputs": [
        {
          "name": "stdout",
          "output_type": "stream",
          "text": [
            "r2_score for Elastic Net :  0.6525679656106556\n",
            "mean_absolute_error for Elastic Net :  9927245.704125771\n"
          ]
        }
      ],
      "source": [
        "elastic_net_model = linear_model.ElasticNet()\n",
        "elastic_net_model = elastic_net_model.fit(X_train, y_train)\n",
        "\n",
        "elastic_net_predictions  = elastic_net_model.predict(X_test)\n",
        "\n",
        "print('r2_score for Elastic Net : ', r2_score(y_test, elastic_net_predictions))\n",
        "print('mean_absolute_error for Elastic Net : ', mean_absolute_error(y_test, elastic_net_predictions))"
      ]
    },
    {
      "cell_type": "markdown",
      "metadata": {
        "id": "JXy7dmUlsgbQ"
      },
      "source": [
        "Support Vector Regression"
      ]
    },
    {
      "cell_type": "code",
      "execution_count": 37,
      "metadata": {
        "colab": {
          "base_uri": "https://localhost:8080/"
        },
        "id": "pELr8KVSsj2w",
        "outputId": "d3882183-5542-49ac-85c2-498b7cd8f5e1"
      },
      "outputs": [
        {
          "name": "stdout",
          "output_type": "stream",
          "text": [
            "r2_score for Support Vector Machine :  -0.043687226334228946\n",
            "mean_absolute_error for Support Vector Machine :  18158047.51441926\n"
          ]
        }
      ],
      "source": [
        "svm_model = make_pipeline(StandardScaler(), SVR(gamma='auto'))\n",
        "svm_model.fit(X_train, y_train)\n",
        "\n",
        "svm_predictions = svm_model.predict(X_test)\n",
        "\n",
        "print('r2_score for Support Vector Machine : ', r2_score(y_test, svm_predictions))\n",
        "print('mean_absolute_error for Support Vector Machine : ', mean_absolute_error(y_test, svm_predictions))\n"
      ]
    },
    {
      "cell_type": "markdown",
      "metadata": {
        "id": "vIUeEsr7tUfU"
      },
      "source": [
        "Neural Network"
      ]
    },
    {
      "cell_type": "code",
      "execution_count": 38,
      "metadata": {
        "colab": {
          "base_uri": "https://localhost:8080/"
        },
        "id": "mt_mYecstWAH",
        "outputId": "aba379c7-011f-4145-b27f-7f0686f34b8b"
      },
      "outputs": [
        {
          "name": "stdout",
          "output_type": "stream",
          "text": [
            "r2_score for Neural Network:  -1.9481599732463017\n",
            "mean_absolute_error for Neural Network :  45864244.12221977\n"
          ]
        },
        {
          "name": "stderr",
          "output_type": "stream",
          "text": [
            "C:\\Users\\Adil\\AppData\\Roaming\\Python\\Python39\\site-packages\\sklearn\\neural_network\\_multilayer_perceptron.py:690: ConvergenceWarning: Stochastic Optimizer: Maximum iterations (500) reached and the optimization hasn't converged yet.\n",
            "  warnings.warn(\n"
          ]
        }
      ],
      "source": [
        "regr = MLPRegressor(random_state=1, max_iter=500).fit(X_train, y_train)\n",
        "nn_predictions = regr.predict(X_test)\n",
        "\n",
        "print('r2_score for Neural Network: ', r2_score(y_test, nn_predictions))\n",
        "print('mean_absolute_error for Neural Network : ', mean_absolute_error(y_test, nn_predictions))"
      ]
    },
    {
      "cell_type": "code",
      "execution_count": 39,
      "metadata": {
        "colab": {
          "base_uri": "https://localhost:8080/"
        },
        "id": "j4Uce_zrt8mi",
        "outputId": "2890a47c-8aba-4470-bbb9-34d6a5725cc0"
      },
      "outputs": [
        {
          "name": "stdout",
          "output_type": "stream",
          "text": [
            "Degree - 1\n",
            "r2_score for Polynomial Regression :  0.73876666552737\n",
            "mean_absolute_error for Polynomial Regression :  9285742.81865691\n",
            "\n",
            "\n",
            "\n",
            "Degree - 2\n",
            "r2_score for Polynomial Regression :  0.7969267654408849\n",
            "mean_absolute_error for Polynomial Regression :  8433946.410094637\n",
            "\n",
            "\n",
            "\n",
            "Degree - 3\n",
            "r2_score for Polynomial Regression :  0.8802187180300101\n",
            "mean_absolute_error for Polynomial Regression :  7695576.996845426\n",
            "\n",
            "\n",
            "\n",
            "Degree - 4\n",
            "r2_score for Polynomial Regression :  0.8517696217816433\n",
            "mean_absolute_error for Polynomial Regression :  8017487.8422712935\n",
            "\n",
            "\n",
            "\n",
            "Degree - 5\n",
            "r2_score for Polynomial Regression :  -5.972276463493659\n",
            "mean_absolute_error for Polynomial Regression :  27225259.538773015\n",
            "\n",
            "\n",
            "\n"
          ]
        }
      ],
      "source": [
        "for degree in range(1, 6):\n",
        "  poly = PolynomialFeatures(degree=degree, include_bias=False)\n",
        "  poly_features = poly.fit_transform(X_train)\n",
        "\n",
        "  poly_reg_model = linear_model.LinearRegression()\n",
        "  poly_reg_model.fit(poly_features, y_train)\n",
        "\n",
        "  y_predicted = poly_reg_model.predict(poly.fit_transform(X_test))\n",
        "\n",
        "  print(f\"Degree - {degree}\")\n",
        "  print('r2_score for Polynomial Regression : ', r2_score(y_test, y_predicted))\n",
        "  print('mean_absolute_error for Polynomial Regression : ', mean_absolute_error(y_test, y_predicted))\n",
        "\n",
        "  print(\"\\n\\n\")"
      ]
    },
    {
      "cell_type": "code",
      "execution_count": 40,
      "metadata": {},
      "outputs": [
        {
          "name": "stdout",
          "output_type": "stream",
          "text": [
            "Degree - 3\n",
            "r2_score for Polynomial Regression :  0.8802187180300101\n",
            "mean_absolute_error for Polynomial Regression :  7695576.996845426\n"
          ]
        }
      ],
      "source": [
        "poly = PolynomialFeatures(degree=3, include_bias=False)\n",
        "poly_features = poly.fit_transform(X_train)\n",
        "\n",
        "poly_reg_model = linear_model.LinearRegression()\n",
        "poly_reg_model.fit(poly_features, y_train)\n",
        "\n",
        "y_predicted = poly_reg_model.predict(poly.fit_transform(X_test))\n",
        "\n",
        "print(f\"Degree - 3\")\n",
        "print('r2_score for Polynomial Regression : ', r2_score(y_test, y_predicted))\n",
        "print('mean_absolute_error for Polynomial Regression : ', mean_absolute_error(y_test, y_predicted))"
      ]
    },
    {
      "cell_type": "markdown",
      "metadata": {
        "id": "4L5eLIJTQjn7"
      },
      "source": [
        "We see that Multiple, Rigde, Lasso Regressions produce r2_score around 0.74, which is quite good. For Elastic Net and Neural Network the results were worse, but for Polynomial Regression we see the highest r2_score, especially with degree of 3. Accordingly, I conclude that for this problem, the best solution is Multiple Regression with degree of 3. It gives r2_score 0.88 and MAE - 7 695 576."
      ]
    },
    {
      "cell_type": "code",
      "execution_count": 41,
      "metadata": {
        "colab": {
          "base_uri": "https://localhost:8080/",
          "height": 445
        },
        "id": "C8G4zX1nW9zY",
        "outputId": "d4dd8340-a6e3-4119-c461-e81f50b51e3e"
      },
      "outputs": [
        {
          "data": {
            "image/png": "[encoded data removed]",
            "text/plain": [
              "<Figure size 640x480 with 1 Axes>"
            ]
          },
          "metadata": {},
          "output_type": "display_data"
        }
      ],
      "source": [
        "plt.scatter(X_test[\"Area\"], y_test)\n",
        "plt.scatter(X_test[\"Area\"], y_predicted, color='purple')\n",
        "plt.show()"
      ]
    },
    {
      "cell_type": "markdown",
      "metadata": {},
      "source": [
        "Now we will try to get rid of outliers and see whether it will make metrics better"
      ]
    },
    {
      "cell_type": "code",
      "execution_count": 46,
      "metadata": {},
      "outputs": [],
      "source": [
        "z_scores = (train_label_enc_df['Price'] - train_label_enc_df['Price'].mean()) / train_label_enc_df['Price'].std()\n",
        "\n",
        "threshold = 3\n",
        "\n",
        "train_label_enc_df = train_label_enc_df[z_scores <= threshold]\n"
      ]
    },
    {
      "cell_type": "code",
      "execution_count": 47,
      "metadata": {},
      "outputs": [
        {
          "data": {
            "text/plain": [
              "<Axes: >"
            ]
          },
          "execution_count": 47,
          "metadata": {},
          "output_type": "execute_result"
        },
        {
          "data": {
            "image/png": "[encoded data removed]",
            "text/plain": [
              "<Figure size 640x480 with 1 Axes>"
            ]
          },
          "metadata": {},
          "output_type": "display_data"
        }
      ],
      "source": [
        "train_label_enc_df.Price.hist(bins=40)"
      ]
    },
    {
      "cell_type": "code",
      "execution_count": 48,
      "metadata": {},
      "outputs": [],
      "source": [
        "# Standardizing data\n",
        "\n",
        "standardized_data_no_outliers = train_label_enc_df.copy()\n",
        "\n",
        "# Z-Score using scipy\n",
        "standardized_data_no_outliers['NumberOfRooms'] = stats.zscore(train_label_enc_df['NumberOfRooms'])\n",
        "\n",
        "standardized_data_no_outliers['YearOfConstruction'] = stats.zscore(train_label_enc_df['YearOfConstruction'])\n",
        "\n",
        "standardized_data_no_outliers['Floor'] = stats.zscore(train_label_enc_df['Floor'])\n",
        "\n",
        "standardized_data_no_outliers['Area'] = stats.zscore(train_label_enc_df['Area'])\n",
        "\n",
        "standardized_data_no_outliers['District_Алатауский'] = stats.zscore(train_label_enc_df['District_Алатауский'])\n",
        "\n",
        "standardized_data_no_outliers['District_Алмалинский'] = stats.zscore(train_label_enc_df['District_Алмалинский'])\n",
        "\n",
        "standardized_data_no_outliers['District_Ауэзовский'] = stats.zscore(train_label_enc_df['District_Ауэзовский'])\n",
        "\n",
        "standardized_data_no_outliers['District_Бостандыкский'] = stats.zscore(train_label_enc_df['District_Бостандыкский'])\n",
        "\n",
        "standardized_data_no_outliers['District_Жетысуский'] = stats.zscore(train_label_enc_df['District_Жетысуский'])\n",
        "\n",
        "standardized_data_no_outliers['District_Медеуский'] = stats.zscore(train_label_enc_df['District_Медеуский'])\n",
        "\n",
        "standardized_data_no_outliers['District_Наурызбайский'] = stats.zscore(train_label_enc_df['District_Наурызбайский'])\n",
        "\n",
        "standardized_data_no_outliers['District_Турксибский'] = stats.zscore(train_label_enc_df['District_Турксибский'])"
      ]
    },
    {
      "cell_type": "code",
      "execution_count": 49,
      "metadata": {},
      "outputs": [],
      "source": [
        "X_no_outliers = standardized_data_no_outliers.drop('Price', axis=1)\n",
        "y_no_outliers = standardized_data_no_outliers['Price']\n",
        "X_train_no_outliers, X_test_no_outliers, y_train_no_outliers, y_test_no_outliers = train_test_split(X_no_outliers, y_no_outliers, test_size=0.2, random_state=42)"
      ]
    },
    {
      "cell_type": "code",
      "execution_count": 51,
      "metadata": {},
      "outputs": [
        {
          "name": "stdout",
          "output_type": "stream",
          "text": [
            "Degree - 3\n",
            "r2_score for Polynomial Regression :  0.8329334061031963\n",
            "mean_absolute_error for Polynomial Regression :  7234419.263665595\n"
          ]
        }
      ],
      "source": [
        "poly = PolynomialFeatures(degree=3, include_bias=False)\n",
        "poly_features = poly.fit_transform(X_train_no_outliers)\n",
        "\n",
        "poly_reg_model_no_outliers = linear_model.LinearRegression()\n",
        "poly_reg_model_no_outliers.fit(poly_features, y_train_no_outliers)\n",
        "\n",
        "y_predicted_no_outliers = poly_reg_model_no_outliers.predict(poly.fit_transform(X_test_no_outliers))\n",
        "\n",
        "print(f\"Degree - 3\")\n",
        "print('r2_score for Polynomial Regression : ', r2_score(y_test_no_outliers, y_predicted_no_outliers))\n",
        "print('mean_absolute_error for Polynomial Regression : ', mean_absolute_error(y_test_no_outliers, y_predicted_no_outliers))"
      ]
    },
    {
      "cell_type": "markdown",
      "metadata": {},
      "source": [
        "R2 Score is less, But MAE is better"
      ]
    },
    {
      "cell_type": "code",
      "execution_count": 52,
      "metadata": {},
      "outputs": [
        {
          "name": "stdout",
          "output_type": "stream",
          "text": [
            "r2_score for Random Forest :  0.8079168271834809\n",
            "mean_absolute_error for Random Forest :  7452859.939447633\n"
          ]
        }
      ],
      "source": [
        "random_forest_model_no_outliers = RandomForestRegressor(n_estimators=100, random_state=42)\n",
        "random_forest_model_no_outliers = random_forest_model_no_outliers.fit(X_train_no_outliers, y_train_no_outliers)\n",
        "\n",
        "random_forest_predictions_no_outliers = random_forest_model_no_outliers.predict(X_test_no_outliers)\n",
        "\n",
        "print('r2_score for Random Forest : ', r2_score(y_test_no_outliers, random_forest_predictions_no_outliers))\n",
        "print('mean_absolute_error for Random Forest : ', mean_absolute_error(y_test_no_outliers, random_forest_predictions_no_outliers))"
      ]
    },
    {
      "cell_type": "markdown",
      "metadata": {},
      "source": [
        "For Random Forest metrics became better, but they are not as good as Polynomial Regression\n",
        "Let's try GridSearch on Random Forest\n"
      ]
    },
    {
      "cell_type": "code",
      "execution_count": 53,
      "metadata": {},
      "outputs": [
        {
          "name": "stdout",
          "output_type": "stream",
          "text": [
            "Best parameters: {'max_depth': None, 'min_samples_split': 5, 'n_estimators': 300}\n",
            "Best R2 score: 0.817584840717139\n"
          ]
        }
      ],
      "source": [
        "param_grid = {\n",
        "    'n_estimators': [100, 200, 300, 400, 500],\n",
        "    'max_depth': [None, 5, 10, 20, 30],\n",
        "    'min_samples_split': [2, 5, 10]\n",
        "}\n",
        "grid_search = GridSearchCV(estimator=random_forest_model_no_outliers, param_grid=param_grid, cv=5, scoring='r2')\n",
        "grid_search.fit(X_train_no_outliers, y_train_no_outliers)\n",
        "\n",
        "best_params = grid_search.best_params_\n",
        "best_score = grid_search.best_score_\n",
        "\n",
        "print(\"Best parameters:\", best_params)\n",
        "print(\"Best R2 score:\", best_score)\n"
      ]
    },
    {
      "cell_type": "code",
      "execution_count": 54,
      "metadata": {},
      "outputs": [
        {
          "name": "stdout",
          "output_type": "stream",
          "text": [
            "r2_score for Random Forest :  0.8148434916371001\n",
            "mean_absolute_error for Random Forest :  7400703.470932772\n"
          ]
        }
      ],
      "source": [
        "random_forest_model_best_params = RandomForestRegressor(n_estimators=best_params['n_estimators'], max_depth=best_params['max_depth'], min_samples_split=best_params['min_samples_split'], random_state=42)\n",
        "random_forest_model_best_params = random_forest_model_best_params.fit(X_train_no_outliers, y_train_no_outliers)\n",
        "\n",
        "random_forest_predictions_best_params = random_forest_model_best_params.predict(X_test_no_outliers)\n",
        "\n",
        "print('r2_score for Random Forest : ', r2_score(y_test_no_outliers, random_forest_predictions_best_params))\n",
        "print('mean_absolute_error for Random Forest : ', mean_absolute_error(y_test_no_outliers, random_forest_predictions_best_params))"
      ]
    },
    {
      "cell_type": "markdown",
      "metadata": {},
      "source": [
        "Stil After performing hyperparameter tuning on Random Forest model, its metrics are not as good as Polynomial Regression with 3rd degree"
      ]
    },
    {
      "cell_type": "code",
      "execution_count": null,
      "metadata": {},
      "outputs": [],
      "source": [
        "plt.scatter(X_test_no_outliers[\"Area\"], y_test_no_outliers)\n",
        "plt.scatter(X_test_no_outliers[\"Area\"], y_predicted_no_outliers, color='purple')\n",
        "plt.show()"
      ]
    }
  ],
  "metadata": {
    "colab": {
      "provenance": []
    },
    "kernelspec": {
      "display_name": "Python 3",
      "language": "python",
      "name": "python3"
    },
    "language_info": {
      "codemirror_mode": {
        "name": "ipython",
        "version": 3
      },
      "file_extension": ".py",
      "mimetype": "text/x-python",
      "name": "python",
      "nbconvert_exporter": "python",
      "pygments_lexer": "ipython3",
      "version": "3.9.10"
    }
  },
  "nbformat": 4,
  "nbformat_minor": 0
}
